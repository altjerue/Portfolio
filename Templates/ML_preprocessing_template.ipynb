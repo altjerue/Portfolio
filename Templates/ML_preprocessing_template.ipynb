{
 "cells": [
  {
   "cell_type": "markdown",
   "metadata": {},
   "source": [
    "# Machine Learning Preprocessing Notebook Template"
   ]
  },
  {
   "cell_type": "markdown",
   "metadata": {},
   "source": [
    "## Preprocessing Best Practices\n",
    "\n",
    "1. Inspect data\n",
    "2. [Summary statistics](</Users/jesus/Library/Mobile Documents/iCloud~md~obsidian/Documents/DataScience/Data Analysis/EDA.md>)\n",
    "3. Remove [missing data](</Users/jesus/Library/Mobile Documents/iCloud~md~obsidian/Documents/DataScience/MachineLearning/Preprocessing/Transforming Data.md>)\n",
    "4. [Transform dataset](</Users/jesus/Library/Mobile Documents/iCloud~md~obsidian/Documents/DataScience/Data Analysis/Cleaning Data/Missing Data.md>)\n",
    "5. [Data standardization](</Users/jesus/Library/Mobile Documents/iCloud~md~obsidian/Documents/DataScience/MachineLearning/Preprocessing/Transforming Data.md>)\n",
    "    - [Data in numeric format](</Users/jesus/Library/Mobile Documents/iCloud~md~obsidian/Documents/DataScience/MachineLearning/Preprocessing/Transforming Data.md>)\n",
    "\t- Data stored in `pandas` DataFrame or `numpy` Array\n",
    "\t- Perform [EDA](</Users/jesus/Library/Mobile Documents/iCloud~md~obsidian/Documents/DataScience/Data Analysis/EDA.md>) first to ensure data is in the correct format"
   ]
  },
  {
   "cell_type": "code",
   "execution_count": null,
   "metadata": {},
   "outputs": [],
   "source": [
    "# Import necessary libraries\n",
    "import pandas as pd\n",
    "import numpy as np\n",
    "from sklearn.model_selection import train_test_split\n",
    "from sklearn.preprocessing import StandardScaler, LabelEncoder"
   ]
  },
  {
   "cell_type": "markdown",
   "metadata": {},
   "source": [
    "## Load the dataset"
   ]
  },
  {
   "cell_type": "code",
   "execution_count": null,
   "metadata": {},
   "outputs": [],
   "source": [
    "# Replace 'your_dataset.csv' with your actual dataset file\n",
    "data = pd.read_csv(\"your_dataset.csv\")"
   ]
  },
  {
   "cell_type": "code",
   "execution_count": null,
   "metadata": {},
   "outputs": [],
   "source": [
    "# Display the first few rows of the dataset\n",
    "print(data.head())"
   ]
  },
  {
   "cell_type": "markdown",
   "metadata": {},
   "source": [
    "## Handle missing values"
   ]
  },
  {
   "cell_type": "code",
   "execution_count": null,
   "metadata": {},
   "outputs": [],
   "source": [
    "# Example: Fill missing values with the mean of the column\n",
    "data.fillna(data.mean(), inplace=True)"
   ]
  },
  {
   "cell_type": "markdown",
   "metadata": {},
   "source": [
    "## Encode categorical variables"
   ]
  },
  {
   "cell_type": "code",
   "execution_count": null,
   "metadata": {},
   "outputs": [],
   "source": [
    "# Example: Encode a categorical column 'Category'\n",
    "label_encoder = LabelEncoder()\n",
    "data[\"Category\"] = label_encoder.fit_transform(data[\"Category\"])"
   ]
  },
  {
   "cell_type": "markdown",
   "metadata": {},
   "source": [
    "## Split the dataset into features and target variable"
   ]
  },
  {
   "cell_type": "code",
   "execution_count": null,
   "metadata": {},
   "outputs": [],
   "source": [
    "# Replace 'target_column' with your actual target column name\n",
    "X = data.drop(\"target_column\", axis=1)\n",
    "y = data[\"target_column\"]\n",
    "\n",
    "# Split the dataset into training and testing sets\n",
    "X_train, X_test, y_train, y_test = train_test_split(\n",
    "    X, y, test_size=0.2, random_state=42\n",
    ")\n",
    "\n",
    "# Standardize the features\n",
    "scaler = StandardScaler()\n",
    "X_train = scaler.fit_transform(X_train)\n",
    "X_test = scaler.transform(X_test)\n",
    "\n",
    "# Display the shapes of the training and testing sets\n",
    "print(f\"Training set shape: {X_train.shape}\")\n",
    "print(f\"Testing set shape: {X_test.shape}\")"
   ]
  },
  {
   "cell_type": "markdown",
   "metadata": {},
   "source": [
    "## Save the preprocessed data"
   ]
  },
  {
   "cell_type": "code",
   "execution_count": null,
   "metadata": {},
   "outputs": [],
   "source": [
    "# Replace 'preprocessed_data.csv' with your desired output file name\n",
    "preprocessed_data = pd.DataFrame(X_train, columns=X.columns)\n",
    "preprocessed_data[\"target_column\"] = y_train.values\n",
    "preprocessed_data.to_csv(\"preprocessed_data.csv\", index=False)\n",
    "\n",
    "print(\"Preprocessing complete. Preprocessed data saved to preprocessed_data.csv\")\n"
   ]
  }
 ],
 "metadata": {
  "kernelspec": {
   "display_name": "Python 3",
   "language": "python",
   "name": "python3"
  },
  "language_info": {
   "codemirror_mode": {
    "name": "ipython",
    "version": 3
   },
   "file_extension": ".py",
   "mimetype": "text/x-python",
   "name": "python",
   "nbconvert_exporter": "python",
   "pygments_lexer": "ipython3",
   "version": "3.11.11"
  }
 },
 "nbformat": 4,
 "nbformat_minor": 2
}
